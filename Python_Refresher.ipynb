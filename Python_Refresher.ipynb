{
 "cells": [
  {
   "cell_type": "code",
   "execution_count": 1,
   "id": "d4d9449b-2a10-4d54-8ab9-0ae6af2b0c76",
   "metadata": {},
   "outputs": [
    {
     "name": "stdin",
     "output_type": "stream",
     "text": [
      "Enter the number of days:  10\n"
     ]
    },
    {
     "name": "stdout",
     "output_type": "stream",
     "text": [
      "10 days is equal to 864,000 seconds\n"
     ]
    }
   ],
   "source": [
    "# Day to Seconds Converter\n",
    "# This program converts a given number of days into seconds\n",
    "\n",
    "# Ask the user for input\n",
    "days = int(input(\"Enter the number of days: \"))\n",
    "\n",
    "# Calculate the number of seconds\n",
    "# 1 day = 24 hours, 1 hour = 60 minutes, 1 minute = 60 seconds\n",
    "seconds = days * 24 * 60 * 60\n",
    "\n",
    "# Display the result\n",
    "print(f\"{days} days is equal to {seconds:,} seconds\")"
   ]
  },
  {
   "cell_type": "code",
   "execution_count": 2,
   "id": "75c2a48e-e7dd-4ddf-af32-2a6a27325656",
   "metadata": {},
   "outputs": [
    {
     "name": "stdin",
     "output_type": "stream",
     "text": [
      "Enter the radius of the sphere:  86.987\n"
     ]
    },
    {
     "name": "stdout",
     "output_type": "stream",
     "text": [
      "The volume of a sphere with radius 86.987 is 2757094.61 cubic units\n"
     ]
    }
   ],
   "source": [
    "# Sphere Volume Calculator\n",
    "# This program calculates the volume of a sphere given its radius\n",
    "\n",
    "# Import math module to access the value of pi\n",
    "import math\n",
    "\n",
    "# Ask the user to input the radius\n",
    "radius = float(input(\"Enter the radius of the sphere: \"))\n",
    "\n",
    "# Calculate the volume using the formula: V = (4/3) * π * r³\n",
    "# Using the exponential operator ** to compute r³ (radius cubed)\n",
    "volume = (4/3) * math.pi * (radius ** 3)\n",
    "\n",
    "# Display the result with appropriate formatting\n",
    "print(f\"The volume of a sphere with radius {radius} is {volume:.2f} cubic units\")"
   ]
  },
  {
   "cell_type": "code",
   "execution_count": 3,
   "id": "cb33cbf1-4f1b-4530-9d2f-bea54de88676",
   "metadata": {},
   "outputs": [
    {
     "name": "stdin",
     "output_type": "stream",
     "text": [
      "Enter the side length of the square:  55\n"
     ]
    },
    {
     "name": "stdout",
     "output_type": "stream",
     "text": [
      "\n",
      "Square with side length 55.0:\n",
      "Area: 3025.00 square units\n",
      "Perimeter: 220.00 units\n"
     ]
    }
   ],
   "source": [
    "# Square Area and Perimeter Calculator\n",
    "# This program calculates the area and perimeter of a square using functions\n",
    "\n",
    "# Function to calculate area of a square\n",
    "def calculate_area(side_length):\n",
    "    \"\"\"\n",
    "    Calculates the area of a square.\n",
    "    Formula: area = side × side\n",
    "    \"\"\"\n",
    "    area = side_length ** 2\n",
    "    return area\n",
    "\n",
    "# Function to calculate perimeter of a square\n",
    "def calculate_perimeter(side_length):\n",
    "    \"\"\"\n",
    "    Calculates the perimeter of a square.\n",
    "    Formula: perimeter = 4 × side\n",
    "    \"\"\"\n",
    "    perimeter = 4 * side_length\n",
    "    return perimeter\n",
    "\n",
    "# Main program\n",
    "def main():\n",
    "    # Ask the user to input the side length of the square\n",
    "    side = float(input(\"Enter the side length of the square: \"))\n",
    "    \n",
    "    # Call functions to calculate area and perimeter\n",
    "    area = calculate_area(side)\n",
    "    perimeter = calculate_perimeter(side)\n",
    "    \n",
    "    # Display the results\n",
    "    print(f\"\\nSquare with side length {side}:\")\n",
    "    print(f\"Area: {area:.2f} square units\")\n",
    "    print(f\"Perimeter: {perimeter:.2f} units\")\n",
    "\n",
    "# Run the program\n",
    "if __name__ == \"__main__\":\n",
    "    main()"
   ]
  },
  {
   "cell_type": "code",
   "execution_count": 4,
   "id": "41d70329-5387-456d-9e18-ea663843a95b",
   "metadata": {},
   "outputs": [
    {
     "name": "stdin",
     "output_type": "stream",
     "text": [
      "Enter a single character:  W\n"
     ]
    },
    {
     "name": "stdout",
     "output_type": "stream",
     "text": [
      "'W' is an uppercase letter.\n"
     ]
    }
   ],
   "source": [
    "# Character Case Detector\n",
    "# This program determines whether a character input by a user is uppercase or lowercase\n",
    "\n",
    "# Function to check if a character is uppercase\n",
    "def is_uppercase(char):\n",
    "    \"\"\"\n",
    "    Checks if a character is uppercase.\n",
    "    Returns True if uppercase, False otherwise.\n",
    "    \"\"\"\n",
    "    return char.isupper()\n",
    "\n",
    "# Function to check if a character is lowercase\n",
    "def is_lowercase(char):\n",
    "    \"\"\"\n",
    "    Checks if a character is lowercase.\n",
    "    Returns True if lowercase, False otherwise.\n",
    "    \"\"\"\n",
    "    return char.islower()\n",
    "\n",
    "# Main program\n",
    "def main():\n",
    "    # Ask the user to input a single character\n",
    "    user_input = input(\"Enter a single character: \")\n",
    "    \n",
    "    # Validate that the input is exactly one character\n",
    "    if len(user_input) != 1:\n",
    "        print(\"Error: Please enter exactly one character!\")\n",
    "        return\n",
    "    \n",
    "    character = user_input\n",
    "    \n",
    "    # Check if the character is a letter\n",
    "    if not character.isalpha():\n",
    "        print(f\"'{character}' is not an alphabetic character.\")\n",
    "        return\n",
    "    \n",
    "    # Determine the case using the functions\n",
    "    if is_uppercase(character):\n",
    "        print(f\"'{character}' is an uppercase letter.\")\n",
    "    elif is_lowercase(character):\n",
    "        print(f\"'{character}' is a lowercase letter.\")\n",
    "    else:\n",
    "        print(f\"'{character}' is not a standard alphabetic character.\")\n",
    "\n",
    "# Run the program\n",
    "if __name__ == \"__main__\":\n",
    "    main()"
   ]
  },
  {
   "cell_type": "code",
   "execution_count": null,
   "id": "03402ed2-e1ca-46f0-b0c7-9942c020d749",
   "metadata": {},
   "outputs": [],
   "source": [
    "# Program based on given pseudocode\n",
    "# This program calculates the value of x through an iterative process\n",
    "\n",
    "# Initialize variables as specified in pseudocode\n",
    "x = 0\n",
    "y = 20\n",
    "\n",
    "# Repeat the process until y is less than 6\n",
    "while y >= 6:\n",
    "    # Subtract 4 from y\n",
    "    y -= 4\n",
    "    \n",
    "    # Add 2/y to x\n",
    "    x += 2 / y\n",
    "    \n",
    "    # Display current values for debugging (optional)\n",
    "    print(f\"y = {y}, x = {x}\")\n",
    "\n",
    "# Display the final result\n",
    "print(f\"\\nThe final value of x is: {x}\")\n"
   ]
  },
  {
   "cell_type": "code",
   "execution_count": 5,
   "id": "860a5c85-c5b9-4b82-bbde-6de011c4aae4",
   "metadata": {},
   "outputs": [
    {
     "name": "stdout",
     "output_type": "stream",
     "text": [
      "Please enter 5 numbers:\n",
      "-------------------------\n"
     ]
    },
    {
     "name": "stdin",
     "output_type": "stream",
     "text": [
      "Enter value 1:  6,768,27387,3,6\n"
     ]
    },
    {
     "name": "stdout",
     "output_type": "stream",
     "text": [
      "Invalid input! Please enter a numeric value.\n"
     ]
    },
    {
     "name": "stdin",
     "output_type": "stream",
     "text": [
      "Enter value 1:  1\n",
      "Enter value 2:  4567483\n",
      "Enter value 3:  867\n",
      "Enter value 4:  1234\n",
      "Enter value 5:  0987\n"
     ]
    },
    {
     "name": "stdout",
     "output_type": "stream",
     "text": [
      "\n",
      "========================================\n",
      "Array values: [1.0, 4567483.0, 867.0, 1234.0, 987.0]\n",
      "Sum of values: 4570572.0\n",
      "Number of values: 5\n",
      "Average: 914114.40\n",
      "========================================\n"
     ]
    }
   ],
   "source": [
    "# Array Population and Average Calculator\n",
    "# This program allows a user to input 5 values into an array and calculates their average\n",
    "\n",
    "def main():\n",
    "    # Initialize an empty array (list) to store the values\n",
    "    numbers = []\n",
    "    \n",
    "    print(\"Please enter 5 numbers:\")\n",
    "    print(\"-\" * 25)\n",
    "    \n",
    "    # Use a loop to continually input 5 values\n",
    "    for i in range(5):\n",
    "        while True:\n",
    "            try:\n",
    "                # Prompt user for input and convert to float\n",
    "                value = float(input(f\"Enter value {i + 1}: \"))\n",
    "                numbers.append(value)\n",
    "                break  # Exit the while loop if input is valid\n",
    "            except ValueError:\n",
    "                print(\"Invalid input! Please enter a numeric value.\")\n",
    "    \n",
    "    # Calculate the average of the values in the array\n",
    "    # Sum all elements and divide by the number of elements\n",
    "    total = sum(numbers)\n",
    "    average = total / len(numbers)\n",
    "    \n",
    "    # Display the results\n",
    "    print(\"\\n\" + \"=\" * 40)\n",
    "    print(f\"Array values: {numbers}\")\n",
    "    print(f\"Sum of values: {total}\")\n",
    "    print(f\"Number of values: {len(numbers)}\")\n",
    "    print(f\"Average: {average:.2f}\")\n",
    "    print(\"=\" * 40)\n",
    "\n",
    "# Run the program\n",
    "if __name__ == \"__main__\":\n",
    "    main()\n",
    "    "
   ]
  },
  {
   "cell_type": "code",
   "execution_count": null,
   "id": "440486df-884c-4cd1-9b5a-5d18c608f57e",
   "metadata": {},
   "outputs": [],
   "source": []
  }
 ],
 "metadata": {
  "kernelspec": {
   "display_name": "Python 3 (ipykernel)",
   "language": "python",
   "name": "python3"
  },
  "language_info": {
   "codemirror_mode": {
    "name": "ipython",
    "version": 3
   },
   "file_extension": ".py",
   "mimetype": "text/x-python",
   "name": "python",
   "nbconvert_exporter": "python",
   "pygments_lexer": "ipython3",
   "version": "3.13.5"
  }
 },
 "nbformat": 4,
 "nbformat_minor": 5
}
